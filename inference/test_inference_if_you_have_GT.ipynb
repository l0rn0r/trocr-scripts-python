{
 "cells": [
  {
   "cell_type": "code",
   "execution_count": null,
   "metadata": {},
   "outputs": [],
   "source": [
    "import pandas as pd\n",
    "import glob as glob\n",
    "from evaluate import load"
   ]
  },
  {
   "cell_type": "code",
   "execution_count": null,
   "metadata": {},
   "outputs": [],
   "source": [
    "def clean_unicode(text):\n",
    "  return bytes(text, 'utf-8').decode('raw_unicode_escape')"
   ]
  },
  {
   "cell_type": "code",
   "execution_count": null,
   "metadata": {},
   "outputs": [],
   "source": [
    "df_gt = pd.read_csv('gt.txt', sep='\\t', header=None)\n",
    "df_gt[1] = df_gt[1].apply(clean_unicode)\n",
    "df_inference = pd.read_csv('inference.txt', sep='\\t', header=None)\n",
    "df = pd.merge(df_gt, df_inference, on=0)"
   ]
  },
  {
   "cell_type": "code",
   "execution_count": null,
   "metadata": {},
   "outputs": [],
   "source": [
    "df"
   ]
  },
  {
   "cell_type": "code",
   "execution_count": null,
   "metadata": {},
   "outputs": [],
   "source": [
    "cer_metric = load('cer')\n",
    "cer_metric.add_batch(references=df['1_x'].to_list(), predictions=df['1_y'].to_list())\n",
    "cer_metric.compute()"
   ]
  }
 ],
 "metadata": {
  "kernelspec": {
   "display_name": "flow-trocr-train",
   "language": "python",
   "name": "python3"
  },
  "language_info": {
   "codemirror_mode": {
    "name": "ipython",
    "version": 3
   },
   "file_extension": ".py",
   "mimetype": "text/x-python",
   "name": "python",
   "nbconvert_exporter": "python",
   "pygments_lexer": "ipython3",
   "version": "3.10.16"
  }
 },
 "nbformat": 4,
 "nbformat_minor": 2
}
